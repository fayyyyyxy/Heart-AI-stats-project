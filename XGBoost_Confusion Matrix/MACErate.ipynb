{
 "cells": [
  {
   "cell_type": "code",
   "execution_count": 1,
   "metadata": {},
   "outputs": [],
   "source": [
    "import pandas as pd\n",
    "import xgboost as xgb\n",
    "from sklearn.model_selection import StratifiedKFold\n",
    "from sklearn.metrics import roc_auc_score, confusion_matrix\n",
    "import matplotlib.pyplot as plt\n",
    "import numpy as np"
   ]
  },
  {
   "cell_type": "code",
   "execution_count": 2,
   "metadata": {},
   "outputs": [],
   "source": [
    "# Read the CSV file\n",
    "df = pd.read_csv('ANON36_MACE_EKG_output.csv')"
   ]
  },
  {
   "cell_type": "code",
   "execution_count": 3,
   "metadata": {},
   "outputs": [],
   "source": [
    "# change variable names\n",
    "df = df.rename(columns={\n",
    "    'Risk- Hypertension' : 'Hypertension',\n",
    "    'Risk- Hypercholesteremia' : 'Hypercholesteremia', \n",
    "    'Risk- Hypertriglyceridemia' : 'Hypertriglyceridemia',\n",
    "    'Risk- High HDL' : 'High HDL', \n",
    "    'Risk- Low HDL' : 'Low HDL', \n",
    "    'Risk- Diabetes' : 'Diabetes', \n",
    "    'Risk- Family Hx' : 'Family Hx',\n",
    "    'Risk- Smoke' : 'Smoke', \n",
    "    'ASCVD PCE Risk Score' :'ASCVD PCE Risk',\n",
    "    'PREVENT Score - ASCVD 10-year risk' : 'PREVENT ASCVD Risk', \n",
    "    'CVD PREVENT 10yr' : 'PREVENT CVD Risk',\n",
    "    'HF PREVENT 10-year' : 'PREVENT HF Risk', \n",
    "    'Total A' : 'Total CAC Score', \n",
    "    'LM A' : 'CAC Score (Left Main)', \n",
    "    'LAD A' : 'CAC Score (LAD)', \n",
    "    'Cx' : 'CAC Score (LCx)', \n",
    "    'RCA' : 'CAC Score (RCA)',\n",
    "    'Num Lesions' : 'Number of Total Lesions', \n",
    "    'Lesion Vol Sum' : 'Total Volume Score', \n",
    "    'Lesion Max D' : 'Peak CAC Density', \n",
    "    'Lesion Ave D' : 'Mean CAC Density', \n",
    "    'Male' : 'Gender',\n",
    "    'Race_encoded' : 'Race',\n",
    "})\n"
   ]
  },
  {
   "cell_type": "code",
   "execution_count": 4,
   "metadata": {},
   "outputs": [],
   "source": [
    "# Select the columns\n",
    "X = df.drop(['CONFIRM ID', 'result'], axis=1)\n",
    "y = df['result']\n",
    "\n",
    "# Make some columns categorical\n",
    "categorical_cols = [X.columns[i] for i in [2,3,4,5,6,7,8,9,10,11,12,13,14,15,16,45]]\n",
    "for col in categorical_cols:\n",
    "    X[col] = X[col].astype('category')"
   ]
  },
  {
   "cell_type": "code",
   "execution_count": 5,
   "metadata": {},
   "outputs": [],
   "source": [
    "# Initialize StratifiedKFold for 10-fold cross-validation\n",
    "cv = StratifiedKFold(n_splits=10, shuffle=True, random_state=94)\n",
    "\n",
    "# Create the XGBClassifier\n",
    "clf = xgb.XGBClassifier(tree_method=\"hist\", enable_categorical=True, random_state=42)\n",
    "\n",
    "# Placeholder for the stacked probabilities\n",
    "stacked_probabilities = np.zeros(y.shape)\n",
    "\n",
    "# Cross-validation loop\n",
    "for train_index, test_index in cv.split(X, y):\n",
    "    X_train, X_test = X.iloc[train_index], X.iloc[test_index]\n",
    "    y_train, y_test = y.iloc[train_index], y.iloc[test_index]\n",
    "    \n",
    "    # Train the model\n",
    "    clf.fit(X_train, y_train, eval_set=[(X_test, y_test)], verbose=False)\n",
    "    \n",
    "    # Predict probabilities\n",
    "    y_pred_proba = clf.predict_proba(X_test)[:, 1]\n",
    "    stacked_probabilities[test_index] = y_pred_proba"
   ]
  },
  {
   "cell_type": "code",
   "execution_count": 6,
   "metadata": {},
   "outputs": [],
   "source": [
    "# Final predictions\n",
    "threshold = 0.5\n",
    "y_pred = (stacked_probabilities >= threshold).astype(int)"
   ]
  },
  {
   "cell_type": "code",
   "execution_count": 7,
   "metadata": {},
   "outputs": [],
   "source": [
    "# Confusion Matrix\n",
    "tn, fp, fn, tp = confusion_matrix(y, y_pred).ravel()\n",
    "\n",
    "# Calculate Rates\n",
    "total = tn + fp + fn + tp\n",
    "tp_rate = tp / (tp + fn)  # Recall/Sensitivity\n",
    "fp_rate = fp / (fp + tn)\n",
    "tn_rate = tn / (tn + fp)\n",
    "fn_rate = fn / (tp + fn)"
   ]
  },
  {
   "cell_type": "markdown",
   "metadata": {},
   "source": [
    "For all:"
   ]
  },
  {
   "cell_type": "code",
   "execution_count": 9,
   "metadata": {},
   "outputs": [
    {
     "name": "stdout",
     "output_type": "stream",
     "text": [
      "Final AUC-ROC: 0.7551\n",
      "\n",
      "Confusion Matrix:\n",
      "TP: 21, FP: 34, TN: 26617, FN: 536\n",
      "\n",
      "Rates/Percentages:\n",
      "TP Rate (Recall): 3.77%\n",
      "FP Rate: 0.13%\n",
      "TN Rate: 99.87%\n",
      "FN Rate: 96.23%\n"
     ]
    }
   ],
   "source": [
    "# Print Results\n",
    "print(f\"Final AUC-ROC: {roc_auc_score(y, stacked_probabilities):.4f}\")\n",
    "print(\"\\nConfusion Matrix:\")\n",
    "print(f\"TP: {tp}, FP: {fp}, TN: {tn}, FN: {fn}\")\n",
    "\n",
    "print(\"\\nRates/Percentages:\")\n",
    "print(f\"TP Rate (Recall): {tp_rate:.2%}\")\n",
    "print(f\"FP Rate: {fp_rate:.2%}\")\n",
    "print(f\"TN Rate: {tn_rate:.2%}\")\n",
    "print(f\"FN Rate: {fn_rate:.2%}\")"
   ]
  },
  {
   "cell_type": "markdown",
   "metadata": {},
   "source": [
    "By Gender"
   ]
  },
  {
   "cell_type": "code",
   "execution_count": 9,
   "metadata": {},
   "outputs": [
    {
     "name": "stdout",
     "output_type": "stream",
     "text": [
      "\n",
      "Male Metrics:\n",
      "TP: 12, FP: 22, TN: 14949, FN: 351\n",
      "TP Rate (Recall): 3.31%\n",
      "FP Rate: 0.15%\n",
      "TN Rate: 99.85%\n",
      "FN Rate: 96.69%\n",
      "\n",
      "Female Metrics:\n",
      "TP: 9, FP: 12, TN: 10914, FN: 185\n",
      "TP Rate (Recall): 4.64%\n",
      "FP Rate: 0.11%\n",
      "TN Rate: 99.89%\n",
      "FN Rate: 95.36%\n"
     ]
    }
   ],
   "source": [
    "# Add predictions to the dataframe\n",
    "df['predicted'] = y_pred\n",
    "df['predicted_proba'] = stacked_probabilities\n",
    "\n",
    "# Filter data for males and females\n",
    "male_data = df[df['Gender'] == 1]  # Assuming 1 = Male\n",
    "female_data = df[df['Gender'] == 0]  # Assuming 0 = Female\n",
    "\n",
    "# Function to calculate confusion matrix and rates\n",
    "def calculate_metrics(group, group_name):\n",
    "    tn, fp, fn, tp = confusion_matrix(group['result'], group['predicted']).ravel()\n",
    "    tp_rate = tp / (tp + fn)\n",
    "    fp_rate = fp / (fp + tn)\n",
    "    tn_rate = tn / (tn + fp)\n",
    "    fn_rate = fn / (tp + fn)\n",
    "    \n",
    "    print(f\"\\n{group_name} Metrics:\")\n",
    "    print(f\"TP: {tp}, FP: {fp}, TN: {tn}, FN: {fn}\")\n",
    "    print(f\"TP Rate (Recall): {tp_rate:.2%}\")\n",
    "    print(f\"FP Rate: {fp_rate:.2%}\")\n",
    "    print(f\"TN Rate: {tn_rate:.2%}\")\n",
    "    print(f\"FN Rate: {fn_rate:.2%}\")\n",
    "\n",
    "# Calculate metrics for males and females\n",
    "calculate_metrics(male_data, \"Male\")\n",
    "calculate_metrics(female_data, \"Female\")"
   ]
  }
 ],
 "metadata": {
  "kernelspec": {
   "display_name": "base",
   "language": "python",
   "name": "python3"
  },
  "language_info": {
   "codemirror_mode": {
    "name": "ipython",
    "version": 3
   },
   "file_extension": ".py",
   "mimetype": "text/x-python",
   "name": "python",
   "nbconvert_exporter": "python",
   "pygments_lexer": "ipython3",
   "version": "3.10.14"
  }
 },
 "nbformat": 4,
 "nbformat_minor": 2
}
